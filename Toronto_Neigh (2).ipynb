{
 "cells": [
  {
   "cell_type": "code",
   "execution_count": 1,
   "id": "f656e2db-62d2-409e-b276-ae6d515afc66",
   "metadata": {},
   "outputs": [
    {
     "name": "stdout",
     "output_type": "stream",
     "text": [
      "Collecting package metadata (current_repodata.json): done\n",
      "Solving environment: done\n",
      "\n",
      "## Package Plan ##\n",
      "\n",
      "  environment location: /home/jupyterlab/conda/envs/python\n",
      "\n",
      "  added / updated specs:\n",
      "    - geopy\n",
      "\n",
      "\n",
      "The following packages will be downloaded:\n",
      "\n",
      "    package                    |            build\n",
      "    ---------------------------|-----------------\n",
      "    ca-certificates-2020.12.5  |       ha878542_0         137 KB  conda-forge\n",
      "    geographiclib-1.50         |             py_0          34 KB  conda-forge\n",
      "    geopy-2.1.0                |     pyhd3deb0d_0          64 KB  conda-forge\n",
      "    ------------------------------------------------------------\n",
      "                                           Total:         235 KB\n",
      "\n",
      "The following NEW packages will be INSTALLED:\n",
      "\n",
      "  geographiclib      conda-forge/noarch::geographiclib-1.50-py_0\n",
      "  geopy              conda-forge/noarch::geopy-2.1.0-pyhd3deb0d_0\n",
      "\n",
      "The following packages will be SUPERSEDED by a higher-priority channel:\n",
      "\n",
      "  ca-certificates    pkgs/main::ca-certificates-2021.4.13-~ --> conda-forge::ca-certificates-2020.12.5-ha878542_0\n",
      "\n",
      "\n",
      "\n",
      "Downloading and Extracting Packages\n",
      "ca-certificates-2020 | 137 KB    | ##################################### | 100% \n",
      "geopy-2.1.0          | 64 KB     | ##################################### | 100% \n",
      "geographiclib-1.50   | 34 KB     | ##################################### | 100% \n",
      "Preparing transaction: done\n",
      "Verifying transaction: done\n",
      "Executing transaction: done\n",
      "Libraries imported.\n"
     ]
    }
   ],
   "source": [
    "import numpy as np # library to handle data in a vectorized manner\n",
    "\n",
    "import pandas as pd # library for data analsysis\n",
    "pd.set_option('display.max_columns', None)\n",
    "pd.set_option('display.max_rows', None)\n",
    "\n",
    "import json # library to handle JSON files\n",
    "\n",
    "!conda install -c conda-forge geopy --yes # uncomment this line if you haven't completed the Foursquare API lab\n",
    "from geopy.geocoders import Nominatim # convert an address into latitude and longitude values\n",
    "\n",
    "import requests # library to handle requests\n",
    "from pandas.io.json import json_normalize # tranform JSON file into a pandas dataframe\n",
    "\n",
    "# Matplotlib and associated plotting modules\n",
    "import matplotlib.cm as cm\n",
    "import matplotlib.colors as colors\n",
    "\n",
    "# import k-means from clustering stage\n",
    "from sklearn.cluster import KMeans\n",
    "\n",
    "#!conda install -c conda-forge folium=0.5.0 --yes # uncomment this line if you haven't completed the Foursquare API lab\n",
    "import folium # map rendering library\n",
    "\n",
    "print('Libraries imported.')"
   ]
  },
  {
   "cell_type": "code",
   "execution_count": 3,
   "id": "e6242ea8-887d-449c-beaa-eccdcc61bfa5",
   "metadata": {},
   "outputs": [
    {
     "name": "stdout",
     "output_type": "stream",
     "text": [
      "Collecting BeautifulSoup4\n",
      "\u001b[?25l  Downloading https://files.pythonhosted.org/packages/d1/41/e6495bd7d3781cee623ce23ea6ac73282a373088fcd0ddc809a047b18eae/beautifulsoup4-4.9.3-py3-none-any.whl (115kB)\n",
      "\u001b[K     |████████████████████████████████| 122kB 16.4MB/s eta 0:00:01\n",
      "\u001b[?25hCollecting soupsieve>1.2; python_version >= \"3.0\" (from BeautifulSoup4)\n",
      "  Downloading https://files.pythonhosted.org/packages/36/69/d82d04022f02733bf9a72bc3b96332d360c0c5307096d76f6bb7489f7e57/soupsieve-2.2.1-py3-none-any.whl\n",
      "Installing collected packages: soupsieve, BeautifulSoup4\n",
      "Successfully installed BeautifulSoup4-4.9.3 soupsieve-2.2.1\n",
      "Note: you may need to restart the kernel to use updated packages.\n"
     ]
    }
   ],
   "source": [
    "pip install BeautifulSoup4"
   ]
  },
  {
   "cell_type": "code",
   "execution_count": 4,
   "id": "744ed284-aa60-438b-9915-108fab6e3c02",
   "metadata": {},
   "outputs": [
    {
     "name": "stdout",
     "output_type": "stream",
     "text": [
      "Requirement already satisfied: html5lib in /home/jupyterlab/conda/envs/python/lib/python3.6/site-packages (0.9999999)\n",
      "Requirement already satisfied: six in /home/jupyterlab/conda/envs/python/lib/python3.6/site-packages (from html5lib) (1.15.0)\n",
      "Note: you may need to restart the kernel to use updated packages.\n"
     ]
    }
   ],
   "source": [
    "pip install html5lib"
   ]
  },
  {
   "cell_type": "code",
   "execution_count": 5,
   "id": "69cbc75a-8985-4a9c-aed7-c494607e326e",
   "metadata": {},
   "outputs": [],
   "source": [
    "from bs4 import BeautifulSoup\n",
    "URL =  'https://en.wikipedia.org/wiki/List_of_postal_codes_of_Canada:_M'\n",
    "r = requests.get(URL)\n",
    "  \n",
    "soup = BeautifulSoup(r.content, 'html5lib') # If this line causes an error, run 'pip install html5lib' or install html5lib\n",
    "#print(soup.prettify())"
   ]
  },
  {
   "cell_type": "code",
   "execution_count": 6,
   "id": "e4ba1c4e-8afa-40cb-a90e-87703c80e1da",
   "metadata": {},
   "outputs": [],
   "source": [
    "table_contents=[]\n",
    "table=soup.find('table')\n",
    "for row in table.findAll('td'):\n",
    "    cell = {}\n",
    "    if row.span.text=='Not assigned':\n",
    "        pass\n",
    "    else:\n",
    "        cell['PostalCode'] = row.p.text[:3]\n",
    "        cell['Borough'] = (row.span.text).split('(')[0]\n",
    "        cell['Neighborhood'] = (((((row.span.text).split('(')[1]).strip(')')).replace(' /',',')).replace(')',' ')).strip(' ')\n",
    "        table_contents.append(cell)"
   ]
  },
  {
   "cell_type": "code",
   "execution_count": 7,
   "id": "dde82131-38b9-4276-85af-47bd209bf81e",
   "metadata": {},
   "outputs": [
    {
     "name": "stdout",
     "output_type": "stream",
     "text": [
      "[{'PostalCode': 'M3A', 'Borough': 'North York', 'Neighborhood': 'Parkwoods'}, {'PostalCode': 'M4A', 'Borough': 'North York', 'Neighborhood': 'Victoria Village'}, {'PostalCode': 'M5A', 'Borough': 'Downtown Toronto', 'Neighborhood': 'Regent Park, Harbourfront'}, {'PostalCode': 'M6A', 'Borough': 'North York', 'Neighborhood': 'Lawrence Manor, Lawrence Heights'}, {'PostalCode': 'M7A', 'Borough': \"Queen's Park\", 'Neighborhood': 'Ontario Provincial Government'}, {'PostalCode': 'M9A', 'Borough': 'Etobicoke', 'Neighborhood': 'Islington Avenue'}, {'PostalCode': 'M1B', 'Borough': 'Scarborough', 'Neighborhood': 'Malvern, Rouge'}, {'PostalCode': 'M3B', 'Borough': 'North York', 'Neighborhood': 'Don Mills North'}, {'PostalCode': 'M4B', 'Borough': 'East York', 'Neighborhood': 'Parkview Hill, Woodbine Gardens'}, {'PostalCode': 'M5B', 'Borough': 'Downtown Toronto', 'Neighborhood': 'Garden District, Ryerson'}, {'PostalCode': 'M6B', 'Borough': 'North York', 'Neighborhood': 'Glencairn'}, {'PostalCode': 'M9B', 'Borough': 'Etobicoke', 'Neighborhood': 'West Deane Park, Princess Gardens, Martin Grove, Islington, Cloverdale'}, {'PostalCode': 'M1C', 'Borough': 'Scarborough', 'Neighborhood': 'Rouge Hill, Port Union, Highland Creek'}, {'PostalCode': 'M3C', 'Borough': 'North York', 'Neighborhood': 'Don Mills South'}, {'PostalCode': 'M4C', 'Borough': 'East York', 'Neighborhood': 'Woodbine Heights'}, {'PostalCode': 'M5C', 'Borough': 'Downtown Toronto', 'Neighborhood': 'St. James Town'}, {'PostalCode': 'M6C', 'Borough': 'York', 'Neighborhood': 'Humewood-Cedarvale'}, {'PostalCode': 'M9C', 'Borough': 'Etobicoke', 'Neighborhood': 'Eringate, Bloordale Gardens, Old Burnhamthorpe, Markland Wood'}, {'PostalCode': 'M1E', 'Borough': 'Scarborough', 'Neighborhood': 'Guildwood, Morningside, West Hill'}, {'PostalCode': 'M4E', 'Borough': 'East Toronto', 'Neighborhood': 'The Beaches'}, {'PostalCode': 'M5E', 'Borough': 'Downtown Toronto', 'Neighborhood': 'Berczy Park'}, {'PostalCode': 'M6E', 'Borough': 'York', 'Neighborhood': 'Caledonia-Fairbanks'}, {'PostalCode': 'M1G', 'Borough': 'Scarborough', 'Neighborhood': 'Woburn'}, {'PostalCode': 'M4G', 'Borough': 'East York', 'Neighborhood': 'Leaside'}, {'PostalCode': 'M5G', 'Borough': 'Downtown Toronto', 'Neighborhood': 'Central Bay Street'}, {'PostalCode': 'M6G', 'Borough': 'Downtown Toronto', 'Neighborhood': 'Christie'}, {'PostalCode': 'M1H', 'Borough': 'Scarborough', 'Neighborhood': 'Cedarbrae'}, {'PostalCode': 'M2H', 'Borough': 'North York', 'Neighborhood': 'Hillcrest Village'}, {'PostalCode': 'M3H', 'Borough': 'North York', 'Neighborhood': 'Bathurst Manor, Wilson Heights, Downsview North'}, {'PostalCode': 'M4H', 'Borough': 'East York', 'Neighborhood': 'Thorncliffe Park'}, {'PostalCode': 'M5H', 'Borough': 'Downtown Toronto', 'Neighborhood': 'Richmond, Adelaide, King'}, {'PostalCode': 'M6H', 'Borough': 'West Toronto', 'Neighborhood': 'Dufferin, Dovercourt Village'}, {'PostalCode': 'M1J', 'Borough': 'Scarborough', 'Neighborhood': 'Scarborough Village'}, {'PostalCode': 'M2J', 'Borough': 'North York', 'Neighborhood': 'Fairview, Henry Farm, Oriole'}, {'PostalCode': 'M3J', 'Borough': 'North York', 'Neighborhood': 'Northwood Park, York University'}, {'PostalCode': 'M4J', 'Borough': 'East YorkEast Toronto', 'Neighborhood': 'The Danforth  East'}, {'PostalCode': 'M5J', 'Borough': 'Downtown Toronto', 'Neighborhood': 'Harbourfront East, Union Station, Toronto Islands'}, {'PostalCode': 'M6J', 'Borough': 'West Toronto', 'Neighborhood': 'Little Portugal, Trinity'}, {'PostalCode': 'M1K', 'Borough': 'Scarborough', 'Neighborhood': 'Kennedy Park, Ionview, East Birchmount Park'}, {'PostalCode': 'M2K', 'Borough': 'North York', 'Neighborhood': 'Bayview Village'}, {'PostalCode': 'M3K', 'Borough': 'North York', 'Neighborhood': 'Downsview East'}, {'PostalCode': 'M4K', 'Borough': 'East Toronto', 'Neighborhood': 'The Danforth West, Riverdale'}, {'PostalCode': 'M5K', 'Borough': 'Downtown Toronto', 'Neighborhood': 'Toronto Dominion Centre, Design Exchange'}, {'PostalCode': 'M6K', 'Borough': 'West Toronto', 'Neighborhood': 'Brockton, Parkdale Village, Exhibition Place'}, {'PostalCode': 'M1L', 'Borough': 'Scarborough', 'Neighborhood': 'Golden Mile, Clairlea, Oakridge'}, {'PostalCode': 'M2L', 'Borough': 'North York', 'Neighborhood': 'York Mills, Silver Hills'}, {'PostalCode': 'M3L', 'Borough': 'North York', 'Neighborhood': 'Downsview West'}, {'PostalCode': 'M4L', 'Borough': 'East Toronto', 'Neighborhood': 'India Bazaar, The Beaches West'}, {'PostalCode': 'M5L', 'Borough': 'Downtown Toronto', 'Neighborhood': 'Commerce Court, Victoria Hotel'}, {'PostalCode': 'M6L', 'Borough': 'North York', 'Neighborhood': 'North Park, Maple Leaf Park, Upwood Park'}, {'PostalCode': 'M9L', 'Borough': 'North York', 'Neighborhood': 'Humber Summit'}, {'PostalCode': 'M1M', 'Borough': 'Scarborough', 'Neighborhood': 'Cliffside, Cliffcrest, Scarborough Village West'}, {'PostalCode': 'M2M', 'Borough': 'North York', 'Neighborhood': 'Willowdale, Newtonbrook'}, {'PostalCode': 'M3M', 'Borough': 'North York', 'Neighborhood': 'Downsview Central'}, {'PostalCode': 'M4M', 'Borough': 'East Toronto', 'Neighborhood': 'Studio District'}, {'PostalCode': 'M5M', 'Borough': 'North York', 'Neighborhood': 'Bedford Park, Lawrence Manor East'}, {'PostalCode': 'M6M', 'Borough': 'York', 'Neighborhood': 'Del Ray, Mount Dennis, Keelsdale and Silverthorn'}, {'PostalCode': 'M9M', 'Borough': 'North York', 'Neighborhood': 'Humberlea, Emery'}, {'PostalCode': 'M1N', 'Borough': 'Scarborough', 'Neighborhood': 'Birch Cliff, Cliffside West'}, {'PostalCode': 'M2N', 'Borough': 'North York', 'Neighborhood': 'Willowdale South'}, {'PostalCode': 'M3N', 'Borough': 'North York', 'Neighborhood': 'Downsview Northwest'}, {'PostalCode': 'M4N', 'Borough': 'Central Toronto', 'Neighborhood': 'Lawrence Park'}, {'PostalCode': 'M5N', 'Borough': 'Central Toronto', 'Neighborhood': 'Roselawn'}, {'PostalCode': 'M6N', 'Borough': 'York', 'Neighborhood': 'Runnymede, The Junction North'}, {'PostalCode': 'M9N', 'Borough': 'York', 'Neighborhood': 'Weston'}, {'PostalCode': 'M1P', 'Borough': 'Scarborough', 'Neighborhood': 'Dorset Park, Wexford Heights, Scarborough Town Centre'}, {'PostalCode': 'M2P', 'Borough': 'North York', 'Neighborhood': 'York Mills West'}, {'PostalCode': 'M4P', 'Borough': 'Central Toronto', 'Neighborhood': 'Davisville North'}, {'PostalCode': 'M5P', 'Borough': 'Central Toronto', 'Neighborhood': 'Forest Hill North & West'}, {'PostalCode': 'M6P', 'Borough': 'West Toronto', 'Neighborhood': 'High Park, The Junction South'}, {'PostalCode': 'M9P', 'Borough': 'Etobicoke', 'Neighborhood': 'Westmount'}, {'PostalCode': 'M1R', 'Borough': 'Scarborough', 'Neighborhood': 'Wexford, Maryvale'}, {'PostalCode': 'M2R', 'Borough': 'North York', 'Neighborhood': 'Willowdale West'}, {'PostalCode': 'M4R', 'Borough': 'Central Toronto', 'Neighborhood': 'North Toronto West'}, {'PostalCode': 'M5R', 'Borough': 'Central Toronto', 'Neighborhood': 'The Annex, North Midtown, Yorkville'}, {'PostalCode': 'M6R', 'Borough': 'West Toronto', 'Neighborhood': 'Parkdale, Roncesvalles'}, {'PostalCode': 'M7R', 'Borough': 'MississaugaCanada Post Gateway Processing Centre', 'Neighborhood': 'Enclave of L4W'}, {'PostalCode': 'M9R', 'Borough': 'Etobicoke', 'Neighborhood': 'Kingsview Village, St. Phillips, Martin Grove Gardens, Richview Gardens'}, {'PostalCode': 'M1S', 'Borough': 'Scarborough', 'Neighborhood': 'Agincourt'}, {'PostalCode': 'M4S', 'Borough': 'Central Toronto', 'Neighborhood': 'Davisville'}, {'PostalCode': 'M5S', 'Borough': 'Downtown Toronto', 'Neighborhood': 'University of Toronto, Harbord'}, {'PostalCode': 'M6S', 'Borough': 'West Toronto', 'Neighborhood': 'Runnymede, Swansea'}, {'PostalCode': 'M1T', 'Borough': 'Scarborough', 'Neighborhood': \"Clarks Corners, Tam O'Shanter, Sullivan\"}, {'PostalCode': 'M4T', 'Borough': 'Central Toronto', 'Neighborhood': 'Moore Park, Summerhill East'}, {'PostalCode': 'M5T', 'Borough': 'Downtown Toronto', 'Neighborhood': 'Kensington Market, Chinatown, Grange Park'}, {'PostalCode': 'M1V', 'Borough': 'Scarborough', 'Neighborhood': \"Milliken, Agincourt North, Steeles East, L'Amoreaux East\"}, {'PostalCode': 'M4V', 'Borough': 'Central Toronto', 'Neighborhood': 'Summerhill West, Rathnelly, South Hill, Forest Hill SE, Deer Park'}, {'PostalCode': 'M5V', 'Borough': 'Downtown Toronto', 'Neighborhood': 'CN Tower, King and Spadina, Railway Lands, Harbourfront West, Bathurst Quay, South Niagara, Island airport'}, {'PostalCode': 'M8V', 'Borough': 'Etobicoke', 'Neighborhood': 'New Toronto, Mimico South, Humber Bay Shores'}, {'PostalCode': 'M9V', 'Borough': 'Etobicoke', 'Neighborhood': 'South Steeles, Silverstone, Humbergate, Jamestown, Mount Olive, Beaumond Heights, Thistletown, Albion Gardens'}, {'PostalCode': 'M1W', 'Borough': 'Scarborough', 'Neighborhood': \"Steeles West, L'Amoreaux West\"}, {'PostalCode': 'M4W', 'Borough': 'Downtown Toronto', 'Neighborhood': 'Rosedale'}, {'PostalCode': 'M5W', 'Borough': 'Downtown TorontoStn A PO Boxes25 The Esplanade', 'Neighborhood': 'Enclave of M5E'}, {'PostalCode': 'M8W', 'Borough': 'Etobicoke', 'Neighborhood': 'Alderwood, Long Branch'}, {'PostalCode': 'M9W', 'Borough': 'EtobicokeNorthwest', 'Neighborhood': 'Clairville, Humberwood, Woodbine Downs, West Humber, Kipling Heights, Rexdale, Elms, Tandridge, Old Rexdale'}, {'PostalCode': 'M1X', 'Borough': 'Scarborough', 'Neighborhood': 'Upper Rouge'}, {'PostalCode': 'M4X', 'Borough': 'Downtown Toronto', 'Neighborhood': 'St. James Town, Cabbagetown'}, {'PostalCode': 'M5X', 'Borough': 'Downtown Toronto', 'Neighborhood': 'First Canadian Place, Underground city'}, {'PostalCode': 'M8X', 'Borough': 'Etobicoke', 'Neighborhood': 'The Kingsway, Montgomery Road, Old Mill North'}, {'PostalCode': 'M4Y', 'Borough': 'Downtown Toronto', 'Neighborhood': 'Church and Wellesley'}, {'PostalCode': 'M7Y', 'Borough': 'East TorontoBusiness reply mail Processing Centre969 Eastern', 'Neighborhood': 'Enclave of M4L'}, {'PostalCode': 'M8Y', 'Borough': 'Etobicoke', 'Neighborhood': \"Old Mill South, King's Mill Park, Sunnylea, Humber Bay, Mimico NE, The Queensway East, Royal York South East, Kingsway Park South East\"}, {'PostalCode': 'M8Z', 'Borough': 'Etobicoke', 'Neighborhood': 'Mimico NW, The Queensway West, South of Bloor, Kingsway Park South West, Royal York South West'}]\n"
     ]
    }
   ],
   "source": [
    "print(table_contents)"
   ]
  },
  {
   "cell_type": "code",
   "execution_count": 8,
   "id": "f91ca077-23c4-4aa2-9742-05c7f2476630",
   "metadata": {},
   "outputs": [],
   "source": [
    "\n",
    "df=pd.DataFrame(table_contents)\n",
    "df['Borough']=df['Borough'].replace({'Downtown TorontoStn A PO Boxes25 The Esplanade':'Downtown Toronto Stn A',\n",
    "                                             'East TorontoBusiness reply mail Processing Centre969 Eastern':'East Toronto Business',\n",
    "                                             'EtobicokeNorthwest':'Etobicoke Northwest','East YorkEast Toronto':'East York/East Toronto',\n",
    "                                             'MississaugaCanada Post Gateway Processing Centre':'Mississauga'})"
   ]
  },
  {
   "cell_type": "code",
   "execution_count": 9,
   "id": "2e69eff8-f4a3-46fb-909f-1d74b32a9d0a",
   "metadata": {},
   "outputs": [
    {
     "data": {
      "text/plain": [
       "(103, 3)"
      ]
     },
     "execution_count": 9,
     "metadata": {},
     "output_type": "execute_result"
    }
   ],
   "source": [
    "df.shape"
   ]
  },
  {
   "cell_type": "code",
   "execution_count": 10,
   "id": "ea7bcd72-d948-4909-b9f9-fc5e37263182",
   "metadata": {},
   "outputs": [
    {
     "data": {
      "text/html": [
       "<div>\n",
       "<style scoped>\n",
       "    .dataframe tbody tr th:only-of-type {\n",
       "        vertical-align: middle;\n",
       "    }\n",
       "\n",
       "    .dataframe tbody tr th {\n",
       "        vertical-align: top;\n",
       "    }\n",
       "\n",
       "    .dataframe thead th {\n",
       "        text-align: right;\n",
       "    }\n",
       "</style>\n",
       "<table border=\"1\" class=\"dataframe\">\n",
       "  <thead>\n",
       "    <tr style=\"text-align: right;\">\n",
       "      <th></th>\n",
       "      <th>PostalCode</th>\n",
       "      <th>Borough</th>\n",
       "      <th>Neighborhood</th>\n",
       "    </tr>\n",
       "  </thead>\n",
       "  <tbody>\n",
       "    <tr>\n",
       "      <th>0</th>\n",
       "      <td>M3A</td>\n",
       "      <td>North York</td>\n",
       "      <td>Parkwoods</td>\n",
       "    </tr>\n",
       "    <tr>\n",
       "      <th>1</th>\n",
       "      <td>M4A</td>\n",
       "      <td>North York</td>\n",
       "      <td>Victoria Village</td>\n",
       "    </tr>\n",
       "    <tr>\n",
       "      <th>2</th>\n",
       "      <td>M5A</td>\n",
       "      <td>Downtown Toronto</td>\n",
       "      <td>Regent Park, Harbourfront</td>\n",
       "    </tr>\n",
       "    <tr>\n",
       "      <th>3</th>\n",
       "      <td>M6A</td>\n",
       "      <td>North York</td>\n",
       "      <td>Lawrence Manor, Lawrence Heights</td>\n",
       "    </tr>\n",
       "    <tr>\n",
       "      <th>4</th>\n",
       "      <td>M7A</td>\n",
       "      <td>Queen's Park</td>\n",
       "      <td>Ontario Provincial Government</td>\n",
       "    </tr>\n",
       "  </tbody>\n",
       "</table>\n",
       "</div>"
      ],
      "text/plain": [
       "  PostalCode           Borough                      Neighborhood\n",
       "0        M3A        North York                         Parkwoods\n",
       "1        M4A        North York                  Victoria Village\n",
       "2        M5A  Downtown Toronto         Regent Park, Harbourfront\n",
       "3        M6A        North York  Lawrence Manor, Lawrence Heights\n",
       "4        M7A      Queen's Park     Ontario Provincial Government"
      ]
     },
     "execution_count": 10,
     "metadata": {},
     "output_type": "execute_result"
    }
   ],
   "source": [
    "df.head()"
   ]
  },
  {
   "cell_type": "code",
   "execution_count": 11,
   "id": "e54cfb68-d7f5-4e0c-9ca9-02170f58a1f3",
   "metadata": {},
   "outputs": [
    {
     "name": "stdout",
     "output_type": "stream",
     "text": [
      "The geograpical coordinate of Toronto, Ontario are 43.6534817, -79.3839347.\n"
     ]
    }
   ],
   "source": [
    "address = 'Toronto, Ontario'\n",
    "\n",
    "geolocator = Nominatim(user_agent=\"ny_explorer\")\n",
    "location = geolocator.geocode(address)\n",
    "latitude = location.latitude\n",
    "longitude = location.longitude\n",
    "print('The geograpical coordinate of Toronto, Ontario are {}, {}.'.format(latitude, longitude))"
   ]
  },
  {
   "cell_type": "code",
   "execution_count": 12,
   "id": "0fd3c48f-a893-42f4-91e0-758c57ed3856",
   "metadata": {},
   "outputs": [
    {
     "name": "stdout",
     "output_type": "stream",
     "text": [
      "Data downloaded!\n"
     ]
    }
   ],
   "source": [
    "!wget -q -O 'GeoSpatial_Dataset.csv' https://cf-courses-data.s3.us.cloud-object-storage.appdomain.cloud/IBMDeveloperSkillsNetwork-DS0701EN-SkillsNetwork/labs_v1/Geospatial_Coordinates.csv\n",
    "print('Data downloaded!')"
   ]
  },
  {
   "cell_type": "code",
   "execution_count": 13,
   "id": "c74b90eb-7ff8-4d17-a6cd-66fa130be2eb",
   "metadata": {},
   "outputs": [
    {
     "data": {
      "text/html": [
       "<div>\n",
       "<style scoped>\n",
       "    .dataframe tbody tr th:only-of-type {\n",
       "        vertical-align: middle;\n",
       "    }\n",
       "\n",
       "    .dataframe tbody tr th {\n",
       "        vertical-align: top;\n",
       "    }\n",
       "\n",
       "    .dataframe thead th {\n",
       "        text-align: right;\n",
       "    }\n",
       "</style>\n",
       "<table border=\"1\" class=\"dataframe\">\n",
       "  <thead>\n",
       "    <tr style=\"text-align: right;\">\n",
       "      <th></th>\n",
       "      <th>Postal Code</th>\n",
       "      <th>Latitude</th>\n",
       "      <th>Longitude</th>\n",
       "    </tr>\n",
       "  </thead>\n",
       "  <tbody>\n",
       "    <tr>\n",
       "      <th>0</th>\n",
       "      <td>M1B</td>\n",
       "      <td>43.806686</td>\n",
       "      <td>-79.194353</td>\n",
       "    </tr>\n",
       "    <tr>\n",
       "      <th>1</th>\n",
       "      <td>M1C</td>\n",
       "      <td>43.784535</td>\n",
       "      <td>-79.160497</td>\n",
       "    </tr>\n",
       "    <tr>\n",
       "      <th>2</th>\n",
       "      <td>M1E</td>\n",
       "      <td>43.763573</td>\n",
       "      <td>-79.188711</td>\n",
       "    </tr>\n",
       "    <tr>\n",
       "      <th>3</th>\n",
       "      <td>M1G</td>\n",
       "      <td>43.770992</td>\n",
       "      <td>-79.216917</td>\n",
       "    </tr>\n",
       "    <tr>\n",
       "      <th>4</th>\n",
       "      <td>M1H</td>\n",
       "      <td>43.773136</td>\n",
       "      <td>-79.239476</td>\n",
       "    </tr>\n",
       "  </tbody>\n",
       "</table>\n",
       "</div>"
      ],
      "text/plain": [
       "  Postal Code   Latitude  Longitude\n",
       "0         M1B  43.806686 -79.194353\n",
       "1         M1C  43.784535 -79.160497\n",
       "2         M1E  43.763573 -79.188711\n",
       "3         M1G  43.770992 -79.216917\n",
       "4         M1H  43.773136 -79.239476"
      ]
     },
     "execution_count": 13,
     "metadata": {},
     "output_type": "execute_result"
    }
   ],
   "source": [
    "GeoSpatial_Dataset_df = pd.read_csv('GeoSpatial_Dataset.csv')\n",
    "GeoSpatial_Dataset_df.head()"
   ]
  },
  {
   "cell_type": "code",
   "execution_count": 14,
   "id": "cb876ca8-038c-40d9-9c41-28d871004e4b",
   "metadata": {},
   "outputs": [
    {
     "data": {
      "text/plain": [
       "(103, 3)"
      ]
     },
     "execution_count": 14,
     "metadata": {},
     "output_type": "execute_result"
    }
   ],
   "source": [
    "GeoSpatial_Dataset_df.shape"
   ]
  },
  {
   "cell_type": "code",
   "execution_count": 15,
   "id": "91dfc60a-6e2d-423b-ad89-57d44a19e03c",
   "metadata": {},
   "outputs": [
    {
     "data": {
      "text/html": [
       "<div>\n",
       "<style scoped>\n",
       "    .dataframe tbody tr th:only-of-type {\n",
       "        vertical-align: middle;\n",
       "    }\n",
       "\n",
       "    .dataframe tbody tr th {\n",
       "        vertical-align: top;\n",
       "    }\n",
       "\n",
       "    .dataframe thead th {\n",
       "        text-align: right;\n",
       "    }\n",
       "</style>\n",
       "<table border=\"1\" class=\"dataframe\">\n",
       "  <thead>\n",
       "    <tr style=\"text-align: right;\">\n",
       "      <th></th>\n",
       "      <th>PostalCode</th>\n",
       "      <th>Borough</th>\n",
       "      <th>Neighborhood</th>\n",
       "    </tr>\n",
       "  </thead>\n",
       "  <tbody>\n",
       "    <tr>\n",
       "      <th>6</th>\n",
       "      <td>M1B</td>\n",
       "      <td>Scarborough</td>\n",
       "      <td>Malvern, Rouge</td>\n",
       "    </tr>\n",
       "    <tr>\n",
       "      <th>12</th>\n",
       "      <td>M1C</td>\n",
       "      <td>Scarborough</td>\n",
       "      <td>Rouge Hill, Port Union, Highland Creek</td>\n",
       "    </tr>\n",
       "    <tr>\n",
       "      <th>18</th>\n",
       "      <td>M1E</td>\n",
       "      <td>Scarborough</td>\n",
       "      <td>Guildwood, Morningside, West Hill</td>\n",
       "    </tr>\n",
       "    <tr>\n",
       "      <th>22</th>\n",
       "      <td>M1G</td>\n",
       "      <td>Scarborough</td>\n",
       "      <td>Woburn</td>\n",
       "    </tr>\n",
       "    <tr>\n",
       "      <th>26</th>\n",
       "      <td>M1H</td>\n",
       "      <td>Scarborough</td>\n",
       "      <td>Cedarbrae</td>\n",
       "    </tr>\n",
       "  </tbody>\n",
       "</table>\n",
       "</div>"
      ],
      "text/plain": [
       "   PostalCode      Borough                            Neighborhood\n",
       "6         M1B  Scarborough                          Malvern, Rouge\n",
       "12        M1C  Scarborough  Rouge Hill, Port Union, Highland Creek\n",
       "18        M1E  Scarborough       Guildwood, Morningside, West Hill\n",
       "22        M1G  Scarborough                                  Woburn\n",
       "26        M1H  Scarborough                               Cedarbrae"
      ]
     },
     "execution_count": 15,
     "metadata": {},
     "output_type": "execute_result"
    }
   ],
   "source": [
    "df_sorted=df.sort_values(by='PostalCode')\n",
    "df_sorted.head()"
   ]
  },
  {
   "cell_type": "code",
   "execution_count": 29,
   "id": "a8a56190-bf15-4e41-94b5-70100c32cb81",
   "metadata": {},
   "outputs": [
    {
     "data": {
      "text/html": [
       "<div>\n",
       "<style scoped>\n",
       "    .dataframe tbody tr th:only-of-type {\n",
       "        vertical-align: middle;\n",
       "    }\n",
       "\n",
       "    .dataframe tbody tr th {\n",
       "        vertical-align: top;\n",
       "    }\n",
       "\n",
       "    .dataframe thead th {\n",
       "        text-align: right;\n",
       "    }\n",
       "</style>\n",
       "<table border=\"1\" class=\"dataframe\">\n",
       "  <thead>\n",
       "    <tr style=\"text-align: right;\">\n",
       "      <th></th>\n",
       "      <th>PostalCode</th>\n",
       "      <th>Latitude</th>\n",
       "      <th>Longitude</th>\n",
       "    </tr>\n",
       "  </thead>\n",
       "  <tbody>\n",
       "    <tr>\n",
       "      <th>0</th>\n",
       "      <td>M1B</td>\n",
       "      <td>43.806686</td>\n",
       "      <td>-79.194353</td>\n",
       "    </tr>\n",
       "    <tr>\n",
       "      <th>1</th>\n",
       "      <td>M1C</td>\n",
       "      <td>43.784535</td>\n",
       "      <td>-79.160497</td>\n",
       "    </tr>\n",
       "    <tr>\n",
       "      <th>2</th>\n",
       "      <td>M1E</td>\n",
       "      <td>43.763573</td>\n",
       "      <td>-79.188711</td>\n",
       "    </tr>\n",
       "    <tr>\n",
       "      <th>3</th>\n",
       "      <td>M1G</td>\n",
       "      <td>43.770992</td>\n",
       "      <td>-79.216917</td>\n",
       "    </tr>\n",
       "    <tr>\n",
       "      <th>4</th>\n",
       "      <td>M1H</td>\n",
       "      <td>43.773136</td>\n",
       "      <td>-79.239476</td>\n",
       "    </tr>\n",
       "  </tbody>\n",
       "</table>\n",
       "</div>"
      ],
      "text/plain": [
       "  PostalCode   Latitude  Longitude\n",
       "0        M1B  43.806686 -79.194353\n",
       "1        M1C  43.784535 -79.160497\n",
       "2        M1E  43.763573 -79.188711\n",
       "3        M1G  43.770992 -79.216917\n",
       "4        M1H  43.773136 -79.239476"
      ]
     },
     "execution_count": 29,
     "metadata": {},
     "output_type": "execute_result"
    }
   ],
   "source": [
    "sorted_GeoSpatial_Dataset_df=GeoSpatial_Dataset_df.sort_values(by='Postal Code')\n",
    "sorted_GeoSpatial_Dataset_df = GeoSpatial_Dataset_df.rename(columns={'Postal Code': 'PostalCode'})\n",
    "sorted_GeoSpatial_Dataset_df.head()"
   ]
  },
  {
   "cell_type": "code",
   "execution_count": 30,
   "id": "3e1481e8-2f3a-4698-a28f-850f12cc178b",
   "metadata": {},
   "outputs": [],
   "source": [
    "merged_df = pd.merge(df_sorted, sorted_GeoSpatial_Dataset_df,on=['PostalCode'])"
   ]
  },
  {
   "cell_type": "code",
   "execution_count": 31,
   "id": "65b4fa64-5083-4425-b6cc-a43b7ffddce3",
   "metadata": {},
   "outputs": [
    {
     "data": {
      "text/html": [
       "<div>\n",
       "<style scoped>\n",
       "    .dataframe tbody tr th:only-of-type {\n",
       "        vertical-align: middle;\n",
       "    }\n",
       "\n",
       "    .dataframe tbody tr th {\n",
       "        vertical-align: top;\n",
       "    }\n",
       "\n",
       "    .dataframe thead th {\n",
       "        text-align: right;\n",
       "    }\n",
       "</style>\n",
       "<table border=\"1\" class=\"dataframe\">\n",
       "  <thead>\n",
       "    <tr style=\"text-align: right;\">\n",
       "      <th></th>\n",
       "      <th>PostalCode</th>\n",
       "      <th>Borough</th>\n",
       "      <th>Neighborhood</th>\n",
       "      <th>Latitude</th>\n",
       "      <th>Longitude</th>\n",
       "    </tr>\n",
       "  </thead>\n",
       "  <tbody>\n",
       "    <tr>\n",
       "      <th>0</th>\n",
       "      <td>M1B</td>\n",
       "      <td>Scarborough</td>\n",
       "      <td>Malvern, Rouge</td>\n",
       "      <td>43.806686</td>\n",
       "      <td>-79.194353</td>\n",
       "    </tr>\n",
       "    <tr>\n",
       "      <th>1</th>\n",
       "      <td>M1C</td>\n",
       "      <td>Scarborough</td>\n",
       "      <td>Rouge Hill, Port Union, Highland Creek</td>\n",
       "      <td>43.784535</td>\n",
       "      <td>-79.160497</td>\n",
       "    </tr>\n",
       "    <tr>\n",
       "      <th>2</th>\n",
       "      <td>M1E</td>\n",
       "      <td>Scarborough</td>\n",
       "      <td>Guildwood, Morningside, West Hill</td>\n",
       "      <td>43.763573</td>\n",
       "      <td>-79.188711</td>\n",
       "    </tr>\n",
       "    <tr>\n",
       "      <th>3</th>\n",
       "      <td>M1G</td>\n",
       "      <td>Scarborough</td>\n",
       "      <td>Woburn</td>\n",
       "      <td>43.770992</td>\n",
       "      <td>-79.216917</td>\n",
       "    </tr>\n",
       "    <tr>\n",
       "      <th>4</th>\n",
       "      <td>M1H</td>\n",
       "      <td>Scarborough</td>\n",
       "      <td>Cedarbrae</td>\n",
       "      <td>43.773136</td>\n",
       "      <td>-79.239476</td>\n",
       "    </tr>\n",
       "  </tbody>\n",
       "</table>\n",
       "</div>"
      ],
      "text/plain": [
       "  PostalCode      Borough                            Neighborhood   Latitude  \\\n",
       "0        M1B  Scarborough                          Malvern, Rouge  43.806686   \n",
       "1        M1C  Scarborough  Rouge Hill, Port Union, Highland Creek  43.784535   \n",
       "2        M1E  Scarborough       Guildwood, Morningside, West Hill  43.763573   \n",
       "3        M1G  Scarborough                                  Woburn  43.770992   \n",
       "4        M1H  Scarborough                               Cedarbrae  43.773136   \n",
       "\n",
       "   Longitude  \n",
       "0 -79.194353  \n",
       "1 -79.160497  \n",
       "2 -79.188711  \n",
       "3 -79.216917  \n",
       "4 -79.239476  "
      ]
     },
     "execution_count": 31,
     "metadata": {},
     "output_type": "execute_result"
    }
   ],
   "source": [
    "merged_df.head()"
   ]
  }
 ],
 "metadata": {
  "kernelspec": {
   "display_name": "Python",
   "language": "python",
   "name": "conda-env-python-py"
  },
  "language_info": {
   "codemirror_mode": {
    "name": "ipython",
    "version": 3
   },
   "file_extension": ".py",
   "mimetype": "text/x-python",
   "name": "python",
   "nbconvert_exporter": "python",
   "pygments_lexer": "ipython3",
   "version": "3.6.13"
  }
 },
 "nbformat": 4,
 "nbformat_minor": 5
}
